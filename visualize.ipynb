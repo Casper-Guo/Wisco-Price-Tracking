{
 "cells": [
  {
   "cell_type": "code",
   "execution_count": null,
   "id": "a4a3d027",
   "metadata": {},
   "outputs": [],
   "source": [
    "from datetime import datetime\n",
    "import mailbox\n",
    "import re\n",
    "from zoneinfo import ZoneInfo\n",
    "\n",
    "import pandas as pd\n",
    "import seaborn as sns\n",
    "import matplotlib.dates as mdates\n",
    "import matplotlib.pyplot as plt\n",
    "\n",
    "\n",
    "def parse_gmail_timestamp(date_str: str) -> datetime:\n",
    "    \"\"\"Convert Gmail UTC timestamp to Eastern Time datetime object.\"\"\"\n",
    "    return datetime.strptime(date_str, \"%a, %d %b %Y %H:%M:%S %z\").astimezone(ZoneInfo(\"America/New_York\"))\n",
    "\n",
    "\n",
    "def parse_price_from_subject(subject_line: str) -> float | None:\n",
    "    \"\"\"Extract price from email subject line, assume formatted as $...\"\"\"\n",
    "    match = re.search(r'\\$([\\d\\.]+)', subject_line)\n",
    "    return float(match.group(1)) if match is not None else None"
   ]
  },
  {
   "cell_type": "code",
   "execution_count": null,
   "id": "ce51ce5b",
   "metadata": {},
   "outputs": [],
   "source": [
    "mbox = mailbox.mbox(\"maize_tix_bot.mbox\")\n",
    "\n",
    "lowest_asks: list[float] = []\n",
    "datetimes: list[datetime] = []\n",
    "\n",
    "for message in reversed(mbox):\n",
    "    if (ask_price := parse_price_from_subject(message[\"subject\"])) is not None:\n",
    "        lowest_asks.append(ask_price)\n",
    "        datetimes.append(parse_gmail_timestamp(message[\"date\"]))"
   ]
  },
  {
   "cell_type": "code",
   "execution_count": null,
   "id": "a3959fd8",
   "metadata": {},
   "outputs": [],
   "source": [
    "df_prices = pd.DataFrame(data={\"time\": datetimes, \"price\": lowest_asks})\n",
    "df_prices = df_prices[df_prices['price'].shift() != df_prices['price']].sort_values('time').reset_index(drop=True)"
   ]
  },
  {
   "cell_type": "code",
   "execution_count": null,
   "id": "b330b00d",
   "metadata": {},
   "outputs": [],
   "source": [
    "sns.set_style(\"whitegrid\")\n",
    "fig, ax = plt.subplots(figsize=(12, 6))\n",
    "\n",
    "df_prices_no_outlier = df_prices[df_prices[\"price\"] >= 60]\n",
    "df_prices_no_outlier[\"time_num\"] = mdates.date2num(df_prices_no_outlier[\"time\"])\n",
    "sns.lineplot(data=df_prices_no_outlier, x=\"time\", y=\"price\", ax=ax, label=\"Lowest Ask\")\n",
    "sns.regplot(data=df_prices_no_outlier, x=\"time_num\", y=\"price\", lowess=True, scatter=False, ax=ax, color='orange', label=\"LOWESS-Smoothed Curve\")\n",
    "\n",
    "sns.despine(top=True, right=True, left=True, bottom=True)\n",
    "plt.legend()\n",
    "plt.xlabel(\"Date\")\n",
    "plt.ylabel(\"Lowest Ask Price ($)\")\n",
    "plt.title(\"MaizeTix Ticket Price Trend\")\n",
    "plt.tight_layout()\n",
    "plt.savefig(\"price_trend.png\", dpi=300)\n",
    "plt.show()"
   ]
  }
 ],
 "metadata": {
  "kernelspec": {
   "display_name": "Python 3",
   "language": "python",
   "name": "python3"
  },
  "language_info": {
   "codemirror_mode": {
    "name": "ipython",
    "version": 3
   },
   "file_extension": ".py",
   "mimetype": "text/x-python",
   "name": "python",
   "nbconvert_exporter": "python",
   "pygments_lexer": "ipython3",
   "version": "3.12.3"
  }
 },
 "nbformat": 4,
 "nbformat_minor": 5
}
